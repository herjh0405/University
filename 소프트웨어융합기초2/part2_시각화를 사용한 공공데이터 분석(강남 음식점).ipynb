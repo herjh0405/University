{
 "cells": [
  {
   "cell_type": "markdown",
   "metadata": {},
   "source": [
    "# 시각화를 사용한 공공데이터 분석"
   ]
  },
  {
   "cell_type": "markdown",
   "metadata": {},
   "source": [
    "## 프로젝트 설정"
   ]
  },
  {
   "cell_type": "code",
   "execution_count": 1,
   "metadata": {},
   "outputs": [],
   "source": [
    "# 1. 라이브러리 호출\n",
    "import pandas as pd #표를 다루는 라이브러리\n",
    "import seaborn as sns\n",
    "import matplotlib.pyplot as plt\n",
    "\n",
    "# 2. 시각화 설정\n",
    "from matplotlib import font_manager, rc\n",
    "from matplotlib import style\n",
    "style.use('ggplot')\n",
    "%matplotlib inline\n",
    "\n",
    "# 3. 한글폰트 설정(한글을 사용한다면 반드시 해야 함)\n",
    "font_name = font_manager.FontProperties(fname=\"c:/Windows/Fonts/malgun.ttf\").get_name()\n",
    "rc('font', family=font_name)\n",
    "\n",
    "# 4. 해상도\n",
    "from IPython.display import set_matplotlib_formats\n",
    "set_matplotlib_formats(\"retina\")"
   ]
  },
  {
   "cell_type": "code",
   "execution_count": 2,
   "metadata": {},
   "outputs": [],
   "source": [
    "# 데이터 불러오기\n",
    "df=pd.read_csv(\"data/part2_상가업소정보_201912_01.csv\", sep='|')\n",
    "# 자료마다 separator가 뭔지 확인하자"
   ]
  },
  {
   "cell_type": "markdown",
   "metadata": {},
   "source": [
    "## 데이터 확인작업"
   ]
  },
  {
   "cell_type": "code",
   "execution_count": 3,
   "metadata": {},
   "outputs": [
    {
     "data": {
      "text/plain": [
       "(573680, 39)"
      ]
     },
     "execution_count": 3,
     "metadata": {},
     "output_type": "execute_result"
    }
   ],
   "source": [
    "# 데이터 갯수 확인\n",
    "df.shape"
   ]
  },
  {
   "cell_type": "code",
   "execution_count": 4,
   "metadata": {
    "scrolled": true
   },
   "outputs": [
    {
     "data": {
      "text/html": [
       "<div>\n",
       "<style scoped>\n",
       "    .dataframe tbody tr th:only-of-type {\n",
       "        vertical-align: middle;\n",
       "    }\n",
       "\n",
       "    .dataframe tbody tr th {\n",
       "        vertical-align: top;\n",
       "    }\n",
       "\n",
       "    .dataframe thead th {\n",
       "        text-align: right;\n",
       "    }\n",
       "</style>\n",
       "<table border=\"1\" class=\"dataframe\">\n",
       "  <thead>\n",
       "    <tr style=\"text-align: right;\">\n",
       "      <th></th>\n",
       "      <th>상가업소번호</th>\n",
       "      <th>상호명</th>\n",
       "      <th>지점명</th>\n",
       "      <th>상권업종대분류코드</th>\n",
       "      <th>상권업종대분류명</th>\n",
       "      <th>상권업종중분류코드</th>\n",
       "      <th>상권업종중분류명</th>\n",
       "      <th>상권업종소분류코드</th>\n",
       "      <th>상권업종소분류명</th>\n",
       "      <th>표준산업분류코드</th>\n",
       "      <th>...</th>\n",
       "      <th>건물관리번호</th>\n",
       "      <th>건물명</th>\n",
       "      <th>도로명주소</th>\n",
       "      <th>구우편번호</th>\n",
       "      <th>신우편번호</th>\n",
       "      <th>동정보</th>\n",
       "      <th>층정보</th>\n",
       "      <th>호정보</th>\n",
       "      <th>경도</th>\n",
       "      <th>위도</th>\n",
       "    </tr>\n",
       "  </thead>\n",
       "  <tbody>\n",
       "    <tr>\n",
       "      <th>0</th>\n",
       "      <td>19905471</td>\n",
       "      <td>와라와라호프</td>\n",
       "      <td>NaN</td>\n",
       "      <td>Q</td>\n",
       "      <td>음식</td>\n",
       "      <td>Q09</td>\n",
       "      <td>유흥주점</td>\n",
       "      <td>Q09A01</td>\n",
       "      <td>호프/맥주</td>\n",
       "      <td>I56219</td>\n",
       "      <td>...</td>\n",
       "      <td>1168010600106040000014378</td>\n",
       "      <td>대치상가</td>\n",
       "      <td>서울특별시 강남구 남부순환로 2933</td>\n",
       "      <td>135280</td>\n",
       "      <td>6280.0</td>\n",
       "      <td>NaN</td>\n",
       "      <td>1</td>\n",
       "      <td>NaN</td>\n",
       "      <td>127.061026</td>\n",
       "      <td>37.493922</td>\n",
       "    </tr>\n",
       "    <tr>\n",
       "      <th>1</th>\n",
       "      <td>19911397</td>\n",
       "      <td>커피빈코리아선릉로93길점</td>\n",
       "      <td>코리아선릉로93길점</td>\n",
       "      <td>Q</td>\n",
       "      <td>음식</td>\n",
       "      <td>Q12</td>\n",
       "      <td>커피점/카페</td>\n",
       "      <td>Q12A01</td>\n",
       "      <td>커피전문점/카페/다방</td>\n",
       "      <td>I56220</td>\n",
       "      <td>...</td>\n",
       "      <td>1168010100106960042022041</td>\n",
       "      <td>NaN</td>\n",
       "      <td>서울특별시 강남구 선릉로93길 6</td>\n",
       "      <td>135080</td>\n",
       "      <td>6149.0</td>\n",
       "      <td>NaN</td>\n",
       "      <td>1</td>\n",
       "      <td>NaN</td>\n",
       "      <td>127.047883</td>\n",
       "      <td>37.505675</td>\n",
       "    </tr>\n",
       "    <tr>\n",
       "      <th>2</th>\n",
       "      <td>19911801</td>\n",
       "      <td>프로포즈</td>\n",
       "      <td>NaN</td>\n",
       "      <td>Q</td>\n",
       "      <td>음식</td>\n",
       "      <td>Q09</td>\n",
       "      <td>유흥주점</td>\n",
       "      <td>Q09A01</td>\n",
       "      <td>호프/맥주</td>\n",
       "      <td>I56219</td>\n",
       "      <td>...</td>\n",
       "      <td>1154510200101620001017748</td>\n",
       "      <td>NaN</td>\n",
       "      <td>서울특별시 금천구 가산로 34-6</td>\n",
       "      <td>153010</td>\n",
       "      <td>8545.0</td>\n",
       "      <td>NaN</td>\n",
       "      <td>1</td>\n",
       "      <td>NaN</td>\n",
       "      <td>126.899220</td>\n",
       "      <td>37.471711</td>\n",
       "    </tr>\n",
       "    <tr>\n",
       "      <th>3</th>\n",
       "      <td>19912201</td>\n",
       "      <td>싱싱커피&amp;토스트</td>\n",
       "      <td>NaN</td>\n",
       "      <td>Q</td>\n",
       "      <td>음식</td>\n",
       "      <td>Q07</td>\n",
       "      <td>패스트푸드</td>\n",
       "      <td>Q07A10</td>\n",
       "      <td>토스트전문</td>\n",
       "      <td>I56192</td>\n",
       "      <td>...</td>\n",
       "      <td>2653010400105780000002037</td>\n",
       "      <td>산업용품유통상가</td>\n",
       "      <td>부산광역시 사상구 괘감로 37</td>\n",
       "      <td>617726</td>\n",
       "      <td>46977.0</td>\n",
       "      <td>NaN</td>\n",
       "      <td>1</td>\n",
       "      <td>26</td>\n",
       "      <td>128.980455</td>\n",
       "      <td>35.159774</td>\n",
       "    </tr>\n",
       "    <tr>\n",
       "      <th>4</th>\n",
       "      <td>19932756</td>\n",
       "      <td>가락사우나내스낵</td>\n",
       "      <td>NaN</td>\n",
       "      <td>F</td>\n",
       "      <td>생활서비스</td>\n",
       "      <td>F09</td>\n",
       "      <td>대중목욕탕/휴게</td>\n",
       "      <td>F09A02</td>\n",
       "      <td>사우나/증기탕/온천</td>\n",
       "      <td>S96121</td>\n",
       "      <td>...</td>\n",
       "      <td>1171010500102560005010490</td>\n",
       "      <td>NaN</td>\n",
       "      <td>서울특별시 송파구 가락로 71</td>\n",
       "      <td>138846</td>\n",
       "      <td>5690.0</td>\n",
       "      <td>NaN</td>\n",
       "      <td>1</td>\n",
       "      <td>NaN</td>\n",
       "      <td>127.104071</td>\n",
       "      <td>37.500249</td>\n",
       "    </tr>\n",
       "  </tbody>\n",
       "</table>\n",
       "<p>5 rows × 39 columns</p>\n",
       "</div>"
      ],
      "text/plain": [
       "     상가업소번호            상호명         지점명 상권업종대분류코드 상권업종대분류명 상권업종중분류코드  상권업종중분류명  \\\n",
       "0  19905471         와라와라호프         NaN         Q       음식       Q09      유흥주점   \n",
       "1  19911397  커피빈코리아선릉로93길점  코리아선릉로93길점         Q       음식       Q12    커피점/카페   \n",
       "2  19911801           프로포즈         NaN         Q       음식       Q09      유흥주점   \n",
       "3  19912201       싱싱커피&토스트         NaN         Q       음식       Q07     패스트푸드   \n",
       "4  19932756       가락사우나내스낵         NaN         F    생활서비스       F09  대중목욕탕/휴게   \n",
       "\n",
       "  상권업종소분류코드     상권업종소분류명 표준산업분류코드  ...                     건물관리번호       건물명  \\\n",
       "0    Q09A01        호프/맥주   I56219  ...  1168010600106040000014378      대치상가   \n",
       "1    Q12A01  커피전문점/카페/다방   I56220  ...  1168010100106960042022041       NaN   \n",
       "2    Q09A01        호프/맥주   I56219  ...  1154510200101620001017748       NaN   \n",
       "3    Q07A10        토스트전문   I56192  ...  2653010400105780000002037  산업용품유통상가   \n",
       "4    F09A02   사우나/증기탕/온천   S96121  ...  1171010500102560005010490       NaN   \n",
       "\n",
       "                  도로명주소   구우편번호    신우편번호  동정보 층정보  호정보          경도         위도  \n",
       "0  서울특별시 강남구 남부순환로 2933  135280   6280.0  NaN   1  NaN  127.061026  37.493922  \n",
       "1    서울특별시 강남구 선릉로93길 6  135080   6149.0  NaN   1  NaN  127.047883  37.505675  \n",
       "2    서울특별시 금천구 가산로 34-6  153010   8545.0  NaN   1  NaN  126.899220  37.471711  \n",
       "3      부산광역시 사상구 괘감로 37  617726  46977.0  NaN   1   26  128.980455  35.159774  \n",
       "4      서울특별시 송파구 가락로 71  138846   5690.0  NaN   1  NaN  127.104071  37.500249  \n",
       "\n",
       "[5 rows x 39 columns]"
      ]
     },
     "execution_count": 4,
     "metadata": {},
     "output_type": "execute_result"
    }
   ],
   "source": [
    "# 첫 부분 확인하셈, 경도 위도 있으니까 이거 지도로 쓸 수 있겠다.\n",
    "df.head()"
   ]
  },
  {
   "cell_type": "code",
   "execution_count": 5,
   "metadata": {},
   "outputs": [
    {
     "data": {
      "text/html": [
       "<div>\n",
       "<style scoped>\n",
       "    .dataframe tbody tr th:only-of-type {\n",
       "        vertical-align: middle;\n",
       "    }\n",
       "\n",
       "    .dataframe tbody tr th {\n",
       "        vertical-align: top;\n",
       "    }\n",
       "\n",
       "    .dataframe thead th {\n",
       "        text-align: right;\n",
       "    }\n",
       "</style>\n",
       "<table border=\"1\" class=\"dataframe\">\n",
       "  <thead>\n",
       "    <tr style=\"text-align: right;\">\n",
       "      <th></th>\n",
       "      <th>상가업소번호</th>\n",
       "      <th>상호명</th>\n",
       "      <th>지점명</th>\n",
       "      <th>상권업종대분류코드</th>\n",
       "      <th>상권업종대분류명</th>\n",
       "      <th>상권업종중분류코드</th>\n",
       "      <th>상권업종중분류명</th>\n",
       "      <th>상권업종소분류코드</th>\n",
       "      <th>상권업종소분류명</th>\n",
       "      <th>표준산업분류코드</th>\n",
       "      <th>...</th>\n",
       "      <th>건물관리번호</th>\n",
       "      <th>건물명</th>\n",
       "      <th>도로명주소</th>\n",
       "      <th>구우편번호</th>\n",
       "      <th>신우편번호</th>\n",
       "      <th>동정보</th>\n",
       "      <th>층정보</th>\n",
       "      <th>호정보</th>\n",
       "      <th>경도</th>\n",
       "      <th>위도</th>\n",
       "    </tr>\n",
       "  </thead>\n",
       "  <tbody>\n",
       "    <tr>\n",
       "      <th>573675</th>\n",
       "      <td>16394290</td>\n",
       "      <td>비파티세리공덕</td>\n",
       "      <td>NaN</td>\n",
       "      <td>Q</td>\n",
       "      <td>음식</td>\n",
       "      <td>Q01</td>\n",
       "      <td>한식</td>\n",
       "      <td>Q01A01</td>\n",
       "      <td>한식/백반/한정식</td>\n",
       "      <td>I56111</td>\n",
       "      <td>...</td>\n",
       "      <td>1144010200101050067001710</td>\n",
       "      <td>NaN</td>\n",
       "      <td>서울특별시 마포구 마포대로14길 4</td>\n",
       "      <td>121801</td>\n",
       "      <td>4211.0</td>\n",
       "      <td>NaN</td>\n",
       "      <td>NaN</td>\n",
       "      <td>NaN</td>\n",
       "      <td>126.955059</td>\n",
       "      <td>37.548618</td>\n",
       "    </tr>\n",
       "    <tr>\n",
       "      <th>573676</th>\n",
       "      <td>16336474</td>\n",
       "      <td>앤탑PC방</td>\n",
       "      <td>NaN</td>\n",
       "      <td>N</td>\n",
       "      <td>관광/여가/오락</td>\n",
       "      <td>N01</td>\n",
       "      <td>PC/오락/당구/볼링등</td>\n",
       "      <td>N01A01</td>\n",
       "      <td>인터넷PC방</td>\n",
       "      <td>R91222</td>\n",
       "      <td>...</td>\n",
       "      <td>1120011500102890015004255</td>\n",
       "      <td>으뜸프린팅(주)</td>\n",
       "      <td>서울특별시 성동구 성수일로8길 37</td>\n",
       "      <td>133834</td>\n",
       "      <td>4794.0</td>\n",
       "      <td>NaN</td>\n",
       "      <td>2</td>\n",
       "      <td>NaN</td>\n",
       "      <td>127.054615</td>\n",
       "      <td>37.545853</td>\n",
       "    </tr>\n",
       "    <tr>\n",
       "      <th>573677</th>\n",
       "      <td>16336218</td>\n",
       "      <td>오즈아레나PC방</td>\n",
       "      <td>NaN</td>\n",
       "      <td>N</td>\n",
       "      <td>관광/여가/오락</td>\n",
       "      <td>N01</td>\n",
       "      <td>PC/오락/당구/볼링등</td>\n",
       "      <td>N01A01</td>\n",
       "      <td>인터넷PC방</td>\n",
       "      <td>R91222</td>\n",
       "      <td>...</td>\n",
       "      <td>1168010800101650008000001</td>\n",
       "      <td>한맥빌딩</td>\n",
       "      <td>서울특별시 강남구 강남대로 492</td>\n",
       "      <td>135825</td>\n",
       "      <td>6119.0</td>\n",
       "      <td>NaN</td>\n",
       "      <td>2</td>\n",
       "      <td>NaN</td>\n",
       "      <td>127.024102</td>\n",
       "      <td>37.506202</td>\n",
       "    </tr>\n",
       "    <tr>\n",
       "      <th>573678</th>\n",
       "      <td>16335152</td>\n",
       "      <td>파인트리네일</td>\n",
       "      <td>NaN</td>\n",
       "      <td>F</td>\n",
       "      <td>생활서비스</td>\n",
       "      <td>F01</td>\n",
       "      <td>이/미용/건강</td>\n",
       "      <td>F01A02</td>\n",
       "      <td>발/네일케어</td>\n",
       "      <td>S96119</td>\n",
       "      <td>...</td>\n",
       "      <td>1156011000100230000000001</td>\n",
       "      <td>서울국제금융센터</td>\n",
       "      <td>서울특별시 영등포구 국제금융로 10</td>\n",
       "      <td>150945</td>\n",
       "      <td>7326.0</td>\n",
       "      <td>NaN</td>\n",
       "      <td>1</td>\n",
       "      <td>NaN</td>\n",
       "      <td>126.924863</td>\n",
       "      <td>37.525172</td>\n",
       "    </tr>\n",
       "    <tr>\n",
       "      <th>573679</th>\n",
       "      <td>16335150</td>\n",
       "      <td>마이리틀네일</td>\n",
       "      <td>NaN</td>\n",
       "      <td>F</td>\n",
       "      <td>생활서비스</td>\n",
       "      <td>F01</td>\n",
       "      <td>이/미용/건강</td>\n",
       "      <td>F01A02</td>\n",
       "      <td>발/네일케어</td>\n",
       "      <td>S96119</td>\n",
       "      <td>...</td>\n",
       "      <td>1132010700108120000018489</td>\n",
       "      <td>현대타운아파트</td>\n",
       "      <td>서울특별시 도봉구 도봉로114길 22-8</td>\n",
       "      <td>132691</td>\n",
       "      <td>1455.0</td>\n",
       "      <td>101</td>\n",
       "      <td>NaN</td>\n",
       "      <td>NaN</td>\n",
       "      <td>127.035145</td>\n",
       "      <td>37.647099</td>\n",
       "    </tr>\n",
       "  </tbody>\n",
       "</table>\n",
       "<p>5 rows × 39 columns</p>\n",
       "</div>"
      ],
      "text/plain": [
       "          상가업소번호       상호명  지점명 상권업종대분류코드  상권업종대분류명 상권업종중분류코드      상권업종중분류명  \\\n",
       "573675  16394290   비파티세리공덕  NaN         Q        음식       Q01            한식   \n",
       "573676  16336474     앤탑PC방  NaN         N  관광/여가/오락       N01  PC/오락/당구/볼링등   \n",
       "573677  16336218  오즈아레나PC방  NaN         N  관광/여가/오락       N01  PC/오락/당구/볼링등   \n",
       "573678  16335152    파인트리네일  NaN         F     생활서비스       F01       이/미용/건강   \n",
       "573679  16335150    마이리틀네일  NaN         F     생활서비스       F01       이/미용/건강   \n",
       "\n",
       "       상권업종소분류코드   상권업종소분류명 표준산업분류코드  ...                     건물관리번호  \\\n",
       "573675    Q01A01  한식/백반/한정식   I56111  ...  1144010200101050067001710   \n",
       "573676    N01A01     인터넷PC방   R91222  ...  1120011500102890015004255   \n",
       "573677    N01A01     인터넷PC방   R91222  ...  1168010800101650008000001   \n",
       "573678    F01A02     발/네일케어   S96119  ...  1156011000100230000000001   \n",
       "573679    F01A02     발/네일케어   S96119  ...  1132010700108120000018489   \n",
       "\n",
       "             건물명                   도로명주소   구우편번호   신우편번호  동정보  층정보  호정보  \\\n",
       "573675       NaN     서울특별시 마포구 마포대로14길 4  121801  4211.0  NaN  NaN  NaN   \n",
       "573676  으뜸프린팅(주)     서울특별시 성동구 성수일로8길 37  133834  4794.0  NaN    2  NaN   \n",
       "573677      한맥빌딩      서울특별시 강남구 강남대로 492  135825  6119.0  NaN    2  NaN   \n",
       "573678  서울국제금융센터     서울특별시 영등포구 국제금융로 10  150945  7326.0  NaN    1  NaN   \n",
       "573679   현대타운아파트  서울특별시 도봉구 도봉로114길 22-8  132691  1455.0  101  NaN  NaN   \n",
       "\n",
       "                경도         위도  \n",
       "573675  126.955059  37.548618  \n",
       "573676  127.054615  37.545853  \n",
       "573677  127.024102  37.506202  \n",
       "573678  126.924863  37.525172  \n",
       "573679  127.035145  37.647099  \n",
       "\n",
       "[5 rows x 39 columns]"
      ]
     },
     "execution_count": 5,
     "metadata": {},
     "output_type": "execute_result"
    }
   ],
   "source": [
    "# 끝 부분도 확인해봐\n",
    "df.tail()"
   ]
  },
  {
   "cell_type": "code",
   "execution_count": 6,
   "metadata": {},
   "outputs": [
    {
     "data": {
      "text/plain": [
       "RangeIndex(start=0, stop=573680, step=1)"
      ]
     },
     "execution_count": 6,
     "metadata": {},
     "output_type": "execute_result"
    }
   ],
   "source": [
    "df.index"
   ]
  },
  {
   "cell_type": "code",
   "execution_count": 7,
   "metadata": {},
   "outputs": [
    {
     "data": {
      "text/plain": [
       "Index(['상가업소번호', '상호명', '지점명', '상권업종대분류코드', '상권업종대분류명', '상권업종중분류코드',\n",
       "       '상권업종중분류명', '상권업종소분류코드', '상권업종소분류명', '표준산업분류코드', '표준산업분류명', '시도코드',\n",
       "       '시도명', '시군구코드', '시군구명', '행정동코드', '행정동명', '법정동코드', '법정동명', '지번코드',\n",
       "       '대지구분코드', '대지구분명', '지번본번지', '지번부번지', '지번주소', '도로명코드', '도로명', '건물본번지',\n",
       "       '건물부번지', '건물관리번호', '건물명', '도로명주소', '구우편번호', '신우편번호', '동정보', '층정보',\n",
       "       '호정보', '경도', '위도'],\n",
       "      dtype='object')"
      ]
     },
     "execution_count": 7,
     "metadata": {},
     "output_type": "execute_result"
    }
   ],
   "source": [
    "# 컬럼확인하고, 표준산업분류 알아야함.\n",
    "df.columns"
   ]
  },
  {
   "cell_type": "code",
   "execution_count": 8,
   "metadata": {},
   "outputs": [
    {
     "data": {
      "text/plain": [
       "상가업소번호         int64\n",
       "상호명           object\n",
       "지점명           object\n",
       "상권업종대분류코드     object\n",
       "상권업종대분류명      object\n",
       "상권업종중분류코드     object\n",
       "상권업종중분류명      object\n",
       "상권업종소분류코드     object\n",
       "상권업종소분류명      object\n",
       "표준산업분류코드      object\n",
       "표준산업분류명       object\n",
       "시도코드           int64\n",
       "시도명           object\n",
       "시군구코드          int64\n",
       "시군구명          object\n",
       "행정동코드          int64\n",
       "행정동명          object\n",
       "법정동코드          int64\n",
       "법정동명          object\n",
       "지번코드           int64\n",
       "대지구분코드         int64\n",
       "대지구분명         object\n",
       "지번본번지          int64\n",
       "지번부번지        float64\n",
       "지번주소          object\n",
       "도로명코드          int64\n",
       "도로명           object\n",
       "건물본번지          int64\n",
       "건물부번지        float64\n",
       "건물관리번호        object\n",
       "건물명           object\n",
       "도로명주소         object\n",
       "구우편번호          int64\n",
       "신우편번호        float64\n",
       "동정보           object\n",
       "층정보           object\n",
       "호정보           object\n",
       "경도           float64\n",
       "위도           float64\n",
       "dtype: object"
      ]
     },
     "execution_count": 8,
     "metadata": {},
     "output_type": "execute_result"
    }
   ],
   "source": [
    "df.dtypes"
   ]
  },
  {
   "cell_type": "markdown",
   "metadata": {},
   "source": [
    "## 전처리"
   ]
  },
  {
   "cell_type": "code",
   "execution_count": 9,
   "metadata": {},
   "outputs": [
    {
     "data": {
      "text/plain": [
       "<matplotlib.axes._subplots.AxesSubplot at 0x278b11245c8>"
      ]
     },
     "execution_count": 9,
     "metadata": {},
     "output_type": "execute_result"
    },
    {
     "data": {
      "image/png": "[encoded data removed]",
      "text/plain": [
       "<Figure size 720x792 with 1 Axes>"
      ]
     },
     "metadata": {
      "image/png": {
       "height": 629,
       "width": 669
      },
      "needs_background": "light"
     },
     "output_type": "display_data"
    }
   ],
   "source": [
    "# 시각화가 되어 보기 쉬워짐\n",
    "# 결측 확인\n",
    "n=df.isnull().sum()\n",
    "# n.plot.bar()\n",
    "n.sort_values().plot.barh(figsize=(10,11)) # 그래프 뒤집음"
   ]
  },
  {
   "cell_type": "code",
   "execution_count": 10,
   "metadata": {},
   "outputs": [
    {
     "name": "stdout",
     "output_type": "stream",
     "text": [
      "<class 'pandas.core.frame.DataFrame'>\n",
      "RangeIndex: 573680 entries, 0 to 573679\n",
      "Data columns (total 30 columns):\n",
      " #   Column     Non-Null Count   Dtype  \n",
      "---  ------     --------------   -----  \n",
      " 0   상가업소번호     573680 non-null  int64  \n",
      " 1   상호명        573679 non-null  object \n",
      " 2   상권업종대분류코드  573680 non-null  object \n",
      " 3   상권업종대분류명   573680 non-null  object \n",
      " 4   상권업종중분류코드  573680 non-null  object \n",
      " 5   상권업종중분류명   573680 non-null  object \n",
      " 6   상권업종소분류코드  573680 non-null  object \n",
      " 7   상권업종소분류명   573680 non-null  object \n",
      " 8   시도코드       573680 non-null  int64  \n",
      " 9   시도명        573680 non-null  object \n",
      " 10  시군구코드      573680 non-null  int64  \n",
      " 11  시군구명       573680 non-null  object \n",
      " 12  행정동코드      573680 non-null  int64  \n",
      " 13  행정동명       573680 non-null  object \n",
      " 14  법정동코드      573680 non-null  int64  \n",
      " 15  법정동명       573680 non-null  object \n",
      " 16  지번코드       573680 non-null  int64  \n",
      " 17  대지구분코드     573680 non-null  int64  \n",
      " 18  대지구분명      573680 non-null  object \n",
      " 19  지번본번지      573680 non-null  int64  \n",
      " 20  지번주소       573680 non-null  object \n",
      " 21  도로명코드      573680 non-null  int64  \n",
      " 22  도로명        573680 non-null  object \n",
      " 23  건물본번지      573680 non-null  int64  \n",
      " 24  건물관리번호     573680 non-null  object \n",
      " 25  도로명주소      573680 non-null  object \n",
      " 26  구우편번호      573680 non-null  int64  \n",
      " 27  신우편번호      573671 non-null  float64\n",
      " 28  경도         573680 non-null  float64\n",
      " 29  위도         573680 non-null  float64\n",
      "dtypes: float64(3), int64(11), object(16)\n",
      "memory usage: 131.3+ MB\n"
     ]
    }
   ],
   "source": [
    "not_use=n.sort_values(ascending=False).head(9)\n",
    "not_use_col=not_use.index\n",
    "df=df.drop(not_use_col, axis=1)\n",
    "df.info()"
   ]
  },
  {
   "cell_type": "code",
   "execution_count": 11,
   "metadata": {},
   "outputs": [
    {
     "data": {
      "text/plain": [
       "Index(['상가업소번호', '상호명', '상권업종대분류코드', '상권업종대분류명', '상권업종중분류코드', '상권업종중분류명',\n",
       "       '상권업종소분류코드', '상권업종소분류명', '시도코드', '시도명', '시군구코드', '시군구명', '행정동코드',\n",
       "       '행정동명', '법정동코드', '법정동명', '지번코드', '대지구분코드', '대지구분명', '지번본번지', '지번주소',\n",
       "       '도로명코드', '도로명', '건물본번지', '건물관리번호', '도로명주소', '구우편번호', '신우편번호', '경도',\n",
       "       '위도'],\n",
       "      dtype='object')"
      ]
     },
     "execution_count": 11,
     "metadata": {},
     "output_type": "execute_result"
    }
   ],
   "source": [
    "cols= df.columns\n",
    "cols"
   ]
  },
  {
   "cell_type": "code",
   "execution_count": 12,
   "metadata": {},
   "outputs": [],
   "source": [
    "# 코드와 번호가 포함된 컬럼명을 모두 삭제하고 싶습니다.\n",
    "# 1)코드만 지운다\n",
    "# 1-1) 컬럼명에 코드가 포함된 글자가 있는 컬럼이 있는지 확인한다.(str.contains)\n",
    "# 1-2) 확인된 컬럼을 모두 가져온다.\n",
    "# 1-3) 지운다\n",
    "\n",
    "# 2)번호만 지운다\n",
    "# 2-1) 컬럼명에 번호가 포함된 글자가 있는 컬럼이 있는지 확인한다.(str.contains)\n",
    "# 2-2) 확인된 컬럼을 모두 가져온다.\n",
    "# 2-3) 지운다"
   ]
  },
  {
   "cell_type": "code",
   "execution_count": 13,
   "metadata": {},
   "outputs": [],
   "source": [
    "# 인덱스 말고 스트링으로 못바꾸나?\n",
    "df=df.drop(cols[cols.str.contains(\"코드|번호\")], axis=1)"
   ]
  },
  {
   "cell_type": "code",
   "execution_count": 14,
   "metadata": {},
   "outputs": [
    {
     "name": "stdout",
     "output_type": "stream",
     "text": [
      "<class 'pandas.core.frame.DataFrame'>\n",
      "RangeIndex: 573680 entries, 0 to 573679\n",
      "Data columns (total 16 columns):\n",
      " #   Column    Non-Null Count   Dtype  \n",
      "---  ------    --------------   -----  \n",
      " 0   상호명       573679 non-null  object \n",
      " 1   상권업종대분류명  573680 non-null  object \n",
      " 2   상권업종중분류명  573680 non-null  object \n",
      " 3   상권업종소분류명  573680 non-null  object \n",
      " 4   시도명       573680 non-null  object \n",
      " 5   시군구명      573680 non-null  object \n",
      " 6   행정동명      573680 non-null  object \n",
      " 7   법정동명      573680 non-null  object \n",
      " 8   대지구분명     573680 non-null  object \n",
      " 9   지번본번지     573680 non-null  int64  \n",
      " 10  지번주소      573680 non-null  object \n",
      " 11  도로명       573680 non-null  object \n",
      " 12  건물본번지     573680 non-null  int64  \n",
      " 13  도로명주소     573680 non-null  object \n",
      " 14  경도        573680 non-null  float64\n",
      " 15  위도        573680 non-null  float64\n",
      "dtypes: float64(2), int64(2), object(12)\n",
      "memory usage: 70.0+ MB\n"
     ]
    }
   ],
   "source": [
    "df.info()"
   ]
  },
  {
   "cell_type": "code",
   "execution_count": 15,
   "metadata": {},
   "outputs": [
    {
     "data": {
      "text/html": [
       "<div>\n",
       "<style scoped>\n",
       "    .dataframe tbody tr th:only-of-type {\n",
       "        vertical-align: middle;\n",
       "    }\n",
       "\n",
       "    .dataframe tbody tr th {\n",
       "        vertical-align: top;\n",
       "    }\n",
       "\n",
       "    .dataframe thead th {\n",
       "        text-align: right;\n",
       "    }\n",
       "</style>\n",
       "<table border=\"1\" class=\"dataframe\">\n",
       "  <thead>\n",
       "    <tr style=\"text-align: right;\">\n",
       "      <th></th>\n",
       "      <th>상호명</th>\n",
       "      <th>상권업종대분류명</th>\n",
       "      <th>상권업종중분류명</th>\n",
       "      <th>상권업종소분류명</th>\n",
       "      <th>시도명</th>\n",
       "      <th>시군구명</th>\n",
       "      <th>행정동명</th>\n",
       "      <th>법정동명</th>\n",
       "      <th>대지구분명</th>\n",
       "      <th>지번본번지</th>\n",
       "      <th>지번주소</th>\n",
       "      <th>도로명</th>\n",
       "      <th>건물본번지</th>\n",
       "      <th>도로명주소</th>\n",
       "      <th>경도</th>\n",
       "      <th>위도</th>\n",
       "    </tr>\n",
       "  </thead>\n",
       "  <tbody>\n",
       "    <tr>\n",
       "      <th>0</th>\n",
       "      <td>와라와라호프</td>\n",
       "      <td>음식</td>\n",
       "      <td>유흥주점</td>\n",
       "      <td>호프/맥주</td>\n",
       "      <td>서울특별시</td>\n",
       "      <td>강남구</td>\n",
       "      <td>대치1동</td>\n",
       "      <td>대치동</td>\n",
       "      <td>대지</td>\n",
       "      <td>604</td>\n",
       "      <td>서울특별시 강남구 대치동 604</td>\n",
       "      <td>서울특별시 강남구 남부순환로</td>\n",
       "      <td>2933</td>\n",
       "      <td>서울특별시 강남구 남부순환로 2933</td>\n",
       "      <td>127.061026</td>\n",
       "      <td>37.493922</td>\n",
       "    </tr>\n",
       "    <tr>\n",
       "      <th>1</th>\n",
       "      <td>커피빈코리아선릉로93길점</td>\n",
       "      <td>음식</td>\n",
       "      <td>커피점/카페</td>\n",
       "      <td>커피전문점/카페/다방</td>\n",
       "      <td>서울특별시</td>\n",
       "      <td>강남구</td>\n",
       "      <td>역삼1동</td>\n",
       "      <td>역삼동</td>\n",
       "      <td>대지</td>\n",
       "      <td>696</td>\n",
       "      <td>서울특별시 강남구 역삼동 696-42</td>\n",
       "      <td>서울특별시 강남구 선릉로93길</td>\n",
       "      <td>6</td>\n",
       "      <td>서울특별시 강남구 선릉로93길 6</td>\n",
       "      <td>127.047883</td>\n",
       "      <td>37.505675</td>\n",
       "    </tr>\n",
       "    <tr>\n",
       "      <th>26</th>\n",
       "      <td>쉼터</td>\n",
       "      <td>음식</td>\n",
       "      <td>분식</td>\n",
       "      <td>라면김밥분식</td>\n",
       "      <td>서울특별시</td>\n",
       "      <td>강남구</td>\n",
       "      <td>삼성1동</td>\n",
       "      <td>삼성동</td>\n",
       "      <td>대지</td>\n",
       "      <td>159</td>\n",
       "      <td>서울특별시 강남구 삼성동 159</td>\n",
       "      <td>서울특별시 강남구 봉은사로</td>\n",
       "      <td>524</td>\n",
       "      <td>서울특별시 강남구 봉은사로 524</td>\n",
       "      <td>127.057100</td>\n",
       "      <td>37.512939</td>\n",
       "    </tr>\n",
       "    <tr>\n",
       "      <th>27</th>\n",
       "      <td>배제현의웰빙낙지한마리수제비</td>\n",
       "      <td>음식</td>\n",
       "      <td>일식/수산물</td>\n",
       "      <td>낙지/오징어</td>\n",
       "      <td>서울특별시</td>\n",
       "      <td>강남구</td>\n",
       "      <td>신사동</td>\n",
       "      <td>신사동</td>\n",
       "      <td>대지</td>\n",
       "      <td>512</td>\n",
       "      <td>서울특별시 강남구 신사동 512-13</td>\n",
       "      <td>서울특별시 강남구 강남대로152길</td>\n",
       "      <td>19</td>\n",
       "      <td>서울특별시 강남구 강남대로152길 19</td>\n",
       "      <td>127.020945</td>\n",
       "      <td>37.517574</td>\n",
       "    </tr>\n",
       "    <tr>\n",
       "      <th>38</th>\n",
       "      <td>타워광명내과의원</td>\n",
       "      <td>의료</td>\n",
       "      <td>병원</td>\n",
       "      <td>내과/외과</td>\n",
       "      <td>서울특별시</td>\n",
       "      <td>강남구</td>\n",
       "      <td>도곡2동</td>\n",
       "      <td>도곡동</td>\n",
       "      <td>대지</td>\n",
       "      <td>467</td>\n",
       "      <td>서울특별시 강남구 도곡동 467-14</td>\n",
       "      <td>서울특별시 강남구 언주로30길</td>\n",
       "      <td>39</td>\n",
       "      <td>서울특별시 강남구 언주로30길 39</td>\n",
       "      <td>127.053198</td>\n",
       "      <td>37.488742</td>\n",
       "    </tr>\n",
       "    <tr>\n",
       "      <th>...</th>\n",
       "      <td>...</td>\n",
       "      <td>...</td>\n",
       "      <td>...</td>\n",
       "      <td>...</td>\n",
       "      <td>...</td>\n",
       "      <td>...</td>\n",
       "      <td>...</td>\n",
       "      <td>...</td>\n",
       "      <td>...</td>\n",
       "      <td>...</td>\n",
       "      <td>...</td>\n",
       "      <td>...</td>\n",
       "      <td>...</td>\n",
       "      <td>...</td>\n",
       "      <td>...</td>\n",
       "      <td>...</td>\n",
       "    </tr>\n",
       "    <tr>\n",
       "      <th>573668</th>\n",
       "      <td>킹덤코리아</td>\n",
       "      <td>소매</td>\n",
       "      <td>음/식료품소매</td>\n",
       "      <td>청과물소매</td>\n",
       "      <td>서울특별시</td>\n",
       "      <td>강남구</td>\n",
       "      <td>역삼2동</td>\n",
       "      <td>역삼동</td>\n",
       "      <td>대지</td>\n",
       "      <td>720</td>\n",
       "      <td>서울특별시 강남구 역삼동 720-9</td>\n",
       "      <td>서울특별시 강남구 테헤란로38길</td>\n",
       "      <td>5</td>\n",
       "      <td>서울특별시 강남구 테헤란로38길 5</td>\n",
       "      <td>127.041635</td>\n",
       "      <td>37.501642</td>\n",
       "    </tr>\n",
       "    <tr>\n",
       "      <th>573672</th>\n",
       "      <td>심스틸러</td>\n",
       "      <td>소매</td>\n",
       "      <td>의복의류</td>\n",
       "      <td>캐쥬얼/스포츠의류</td>\n",
       "      <td>서울특별시</td>\n",
       "      <td>강남구</td>\n",
       "      <td>논현1동</td>\n",
       "      <td>논현동</td>\n",
       "      <td>대지</td>\n",
       "      <td>16</td>\n",
       "      <td>서울특별시 강남구 논현동 16-40</td>\n",
       "      <td>서울특별시 강남구 강남대로146길</td>\n",
       "      <td>7</td>\n",
       "      <td>서울특별시 강남구 강남대로146길 7</td>\n",
       "      <td>127.020698</td>\n",
       "      <td>37.514833</td>\n",
       "    </tr>\n",
       "    <tr>\n",
       "      <th>573673</th>\n",
       "      <td>밀리온골프</td>\n",
       "      <td>소매</td>\n",
       "      <td>의복의류</td>\n",
       "      <td>캐쥬얼/스포츠의류</td>\n",
       "      <td>서울특별시</td>\n",
       "      <td>강남구</td>\n",
       "      <td>압구정동</td>\n",
       "      <td>신사동</td>\n",
       "      <td>대지</td>\n",
       "      <td>648</td>\n",
       "      <td>서울특별시 강남구 신사동 648-8</td>\n",
       "      <td>서울특별시 강남구 도산대로49길</td>\n",
       "      <td>21</td>\n",
       "      <td>서울특별시 강남구 도산대로49길 21</td>\n",
       "      <td>127.036900</td>\n",
       "      <td>37.524247</td>\n",
       "    </tr>\n",
       "    <tr>\n",
       "      <th>573674</th>\n",
       "      <td>헤리티크뉴욕</td>\n",
       "      <td>소매</td>\n",
       "      <td>의복의류</td>\n",
       "      <td>예복/웨딩드레스</td>\n",
       "      <td>서울특별시</td>\n",
       "      <td>강남구</td>\n",
       "      <td>압구정동</td>\n",
       "      <td>신사동</td>\n",
       "      <td>대지</td>\n",
       "      <td>650</td>\n",
       "      <td>서울특별시 강남구 신사동 650-7</td>\n",
       "      <td>서울특별시 강남구 도산대로45길</td>\n",
       "      <td>16</td>\n",
       "      <td>서울특별시 강남구 도산대로45길 16-9</td>\n",
       "      <td>127.036036</td>\n",
       "      <td>37.523645</td>\n",
       "    </tr>\n",
       "    <tr>\n",
       "      <th>573677</th>\n",
       "      <td>오즈아레나PC방</td>\n",
       "      <td>관광/여가/오락</td>\n",
       "      <td>PC/오락/당구/볼링등</td>\n",
       "      <td>인터넷PC방</td>\n",
       "      <td>서울특별시</td>\n",
       "      <td>강남구</td>\n",
       "      <td>논현1동</td>\n",
       "      <td>논현동</td>\n",
       "      <td>대지</td>\n",
       "      <td>165</td>\n",
       "      <td>서울특별시 강남구 논현동 165-8</td>\n",
       "      <td>서울특별시 강남구 강남대로</td>\n",
       "      <td>492</td>\n",
       "      <td>서울특별시 강남구 강남대로 492</td>\n",
       "      <td>127.024102</td>\n",
       "      <td>37.506202</td>\n",
       "    </tr>\n",
       "  </tbody>\n",
       "</table>\n",
       "<p>47080 rows × 16 columns</p>\n",
       "</div>"
      ],
      "text/plain": [
       "                   상호명  상권업종대분류명      상권업종중분류명     상권업종소분류명    시도명 시군구명  행정동명  \\\n",
       "0               와라와라호프        음식          유흥주점        호프/맥주  서울특별시  강남구  대치1동   \n",
       "1        커피빈코리아선릉로93길점        음식        커피점/카페  커피전문점/카페/다방  서울특별시  강남구  역삼1동   \n",
       "26                  쉼터        음식            분식       라면김밥분식  서울특별시  강남구  삼성1동   \n",
       "27      배제현의웰빙낙지한마리수제비        음식        일식/수산물       낙지/오징어  서울특별시  강남구   신사동   \n",
       "38            타워광명내과의원        의료            병원        내과/외과  서울특별시  강남구  도곡2동   \n",
       "...                ...       ...           ...          ...    ...  ...   ...   \n",
       "573668           킹덤코리아        소매       음/식료품소매        청과물소매  서울특별시  강남구  역삼2동   \n",
       "573672            심스틸러        소매          의복의류    캐쥬얼/스포츠의류  서울특별시  강남구  논현1동   \n",
       "573673           밀리온골프        소매          의복의류    캐쥬얼/스포츠의류  서울특별시  강남구  압구정동   \n",
       "573674          헤리티크뉴욕        소매          의복의류     예복/웨딩드레스  서울특별시  강남구  압구정동   \n",
       "573677        오즈아레나PC방  관광/여가/오락  PC/오락/당구/볼링등       인터넷PC방  서울특별시  강남구  논현1동   \n",
       "\n",
       "       법정동명 대지구분명  지번본번지                  지번주소                 도로명  건물본번지  \\\n",
       "0       대치동    대지    604     서울특별시 강남구 대치동 604     서울특별시 강남구 남부순환로   2933   \n",
       "1       역삼동    대지    696  서울특별시 강남구 역삼동 696-42    서울특별시 강남구 선릉로93길      6   \n",
       "26      삼성동    대지    159     서울특별시 강남구 삼성동 159      서울특별시 강남구 봉은사로    524   \n",
       "27      신사동    대지    512  서울특별시 강남구 신사동 512-13  서울특별시 강남구 강남대로152길     19   \n",
       "38      도곡동    대지    467  서울특별시 강남구 도곡동 467-14    서울특별시 강남구 언주로30길     39   \n",
       "...     ...   ...    ...                   ...                 ...    ...   \n",
       "573668  역삼동    대지    720   서울특별시 강남구 역삼동 720-9   서울특별시 강남구 테헤란로38길      5   \n",
       "573672  논현동    대지     16   서울특별시 강남구 논현동 16-40  서울특별시 강남구 강남대로146길      7   \n",
       "573673  신사동    대지    648   서울특별시 강남구 신사동 648-8   서울특별시 강남구 도산대로49길     21   \n",
       "573674  신사동    대지    650   서울특별시 강남구 신사동 650-7   서울특별시 강남구 도산대로45길     16   \n",
       "573677  논현동    대지    165   서울특별시 강남구 논현동 165-8      서울특별시 강남구 강남대로    492   \n",
       "\n",
       "                         도로명주소          경도         위도  \n",
       "0         서울특별시 강남구 남부순환로 2933  127.061026  37.493922  \n",
       "1           서울특별시 강남구 선릉로93길 6  127.047883  37.505675  \n",
       "26          서울특별시 강남구 봉은사로 524  127.057100  37.512939  \n",
       "27       서울특별시 강남구 강남대로152길 19  127.020945  37.517574  \n",
       "38         서울특별시 강남구 언주로30길 39  127.053198  37.488742  \n",
       "...                        ...         ...        ...  \n",
       "573668     서울특별시 강남구 테헤란로38길 5  127.041635  37.501642  \n",
       "573672    서울특별시 강남구 강남대로146길 7  127.020698  37.514833  \n",
       "573673    서울특별시 강남구 도산대로49길 21  127.036900  37.524247  \n",
       "573674  서울특별시 강남구 도산대로45길 16-9  127.036036  37.523645  \n",
       "573677      서울특별시 강남구 강남대로 492  127.024102  37.506202  \n",
       "\n",
       "[47080 rows x 16 columns]"
      ]
     },
     "execution_count": 15,
     "metadata": {},
     "output_type": "execute_result"
    }
   ],
   "source": [
    "df[df['시군구명']=='강남구']"
   ]
  },
  {
   "cell_type": "code",
   "execution_count": 16,
   "metadata": {},
   "outputs": [
    {
     "data": {
      "text/plain": [
       "한식         4371\n",
       "커피점/카페     2790\n",
       "유흥주점       1573\n",
       "양식         1573\n",
       "일식/수산물     1255\n",
       "분식         1197\n",
       "패스트푸드       786\n",
       "제과제빵떡케익     650\n",
       "닭/오리요리      539\n",
       "중식          358\n",
       "별식/퓨전요리     341\n",
       "부페           63\n",
       "기타음식업        47\n",
       "음식배달서비스      11\n",
       "Name: 상권업종중분류명, dtype: int64"
      ]
     },
     "execution_count": 16,
     "metadata": {},
     "output_type": "execute_result"
    }
   ],
   "source": [
    "df_gangnam=df[(df['시군구명']=='강남구')& (df['상권업종대분류명']=='음식')].copy()\n",
    "df_gangnam['상권업종중분류명'].value_counts()"
   ]
  },
  {
   "cell_type": "code",
   "execution_count": 17,
   "metadata": {},
   "outputs": [
    {
     "data": {
      "text/plain": [
       "상권업종중분류명\n",
       "기타음식업        47\n",
       "닭/오리요리      539\n",
       "별식/퓨전요리     341\n",
       "부페           63\n",
       "분식         1197\n",
       "양식         1573\n",
       "유흥주점       1573\n",
       "음식배달서비스      11\n",
       "일식/수산물     1255\n",
       "제과제빵떡케익     650\n",
       "중식          358\n",
       "커피점/카페     2790\n",
       "패스트푸드       786\n",
       "한식         4371\n",
       "Name: 상호명, dtype: int64"
      ]
     },
     "execution_count": 17,
     "metadata": {},
     "output_type": "execute_result"
    }
   ],
   "source": [
    "food_gu=df_gangnam.groupby(['상권업종중분류명'])['상호명'].count()\n",
    "food_gu"
   ]
  },
  {
   "cell_type": "code",
   "execution_count": 18,
   "metadata": {},
   "outputs": [
    {
     "data": {
      "text/html": [
       "<div>\n",
       "<style scoped>\n",
       "    .dataframe tbody tr th:only-of-type {\n",
       "        vertical-align: middle;\n",
       "    }\n",
       "\n",
       "    .dataframe tbody tr th {\n",
       "        vertical-align: top;\n",
       "    }\n",
       "\n",
       "    .dataframe thead th {\n",
       "        text-align: right;\n",
       "    }\n",
       "</style>\n",
       "<table border=\"1\" class=\"dataframe\">\n",
       "  <thead>\n",
       "    <tr style=\"text-align: right;\">\n",
       "      <th></th>\n",
       "      <th>상권업종중분류명</th>\n",
       "      <th>상호수</th>\n",
       "    </tr>\n",
       "  </thead>\n",
       "  <tbody>\n",
       "    <tr>\n",
       "      <th>0</th>\n",
       "      <td>기타음식업</td>\n",
       "      <td>47</td>\n",
       "    </tr>\n",
       "    <tr>\n",
       "      <th>1</th>\n",
       "      <td>닭/오리요리</td>\n",
       "      <td>539</td>\n",
       "    </tr>\n",
       "    <tr>\n",
       "      <th>2</th>\n",
       "      <td>별식/퓨전요리</td>\n",
       "      <td>341</td>\n",
       "    </tr>\n",
       "    <tr>\n",
       "      <th>3</th>\n",
       "      <td>부페</td>\n",
       "      <td>63</td>\n",
       "    </tr>\n",
       "    <tr>\n",
       "      <th>4</th>\n",
       "      <td>분식</td>\n",
       "      <td>1197</td>\n",
       "    </tr>\n",
       "    <tr>\n",
       "      <th>5</th>\n",
       "      <td>양식</td>\n",
       "      <td>1573</td>\n",
       "    </tr>\n",
       "    <tr>\n",
       "      <th>6</th>\n",
       "      <td>유흥주점</td>\n",
       "      <td>1573</td>\n",
       "    </tr>\n",
       "    <tr>\n",
       "      <th>7</th>\n",
       "      <td>음식배달서비스</td>\n",
       "      <td>11</td>\n",
       "    </tr>\n",
       "    <tr>\n",
       "      <th>8</th>\n",
       "      <td>일식/수산물</td>\n",
       "      <td>1255</td>\n",
       "    </tr>\n",
       "    <tr>\n",
       "      <th>9</th>\n",
       "      <td>제과제빵떡케익</td>\n",
       "      <td>650</td>\n",
       "    </tr>\n",
       "    <tr>\n",
       "      <th>10</th>\n",
       "      <td>중식</td>\n",
       "      <td>358</td>\n",
       "    </tr>\n",
       "    <tr>\n",
       "      <th>11</th>\n",
       "      <td>커피점/카페</td>\n",
       "      <td>2790</td>\n",
       "    </tr>\n",
       "    <tr>\n",
       "      <th>12</th>\n",
       "      <td>패스트푸드</td>\n",
       "      <td>786</td>\n",
       "    </tr>\n",
       "    <tr>\n",
       "      <th>13</th>\n",
       "      <td>한식</td>\n",
       "      <td>4371</td>\n",
       "    </tr>\n",
       "  </tbody>\n",
       "</table>\n",
       "</div>"
      ],
      "text/plain": [
       "   상권업종중분류명   상호수\n",
       "0     기타음식업    47\n",
       "1    닭/오리요리   539\n",
       "2   별식/퓨전요리   341\n",
       "3        부페    63\n",
       "4        분식  1197\n",
       "5        양식  1573\n",
       "6      유흥주점  1573\n",
       "7   음식배달서비스    11\n",
       "8    일식/수산물  1255\n",
       "9   제과제빵떡케익   650\n",
       "10       중식   358\n",
       "11   커피점/카페  2790\n",
       "12    패스트푸드   786\n",
       "13       한식  4371"
      ]
     },
     "execution_count": 18,
     "metadata": {},
     "output_type": "execute_result"
    }
   ],
   "source": [
    "food=food_gu.reset_index() # 표가 아니라 출력할 수가 없음\n",
    "food=food.rename(columns={'상호명':'상호수'})\n",
    "food"
   ]
  },
  {
   "cell_type": "code",
   "execution_count": 19,
   "metadata": {
    "scrolled": true
   },
   "outputs": [
    {
     "data": {
      "image/png": "[encoded data removed]",
      "text/plain": [
       "<Figure size 1080x288 with 1 Axes>"
      ]
     },
     "metadata": {
      "image/png": {
       "height": 265,
       "width": 896
      },
      "needs_background": "light"
     },
     "output_type": "display_data"
    }
   ],
   "source": [
    "plt.figure(figsize=(15,4))\n",
    "sns.barplot(data=food,x='상권업종중분류명',y='상호수')\n",
    "# matplot보다 훨씬 간단함\n",
    "plt.show()"
   ]
  },
  {
   "cell_type": "markdown",
   "metadata": {},
   "source": [
    "## 기술 통계 값 확인"
   ]
  },
  {
   "cell_type": "code",
   "execution_count": 21,
   "metadata": {},
   "outputs": [
    {
     "data": {
      "text/html": [
       "<div>\n",
       "<style scoped>\n",
       "    .dataframe tbody tr th:only-of-type {\n",
       "        vertical-align: middle;\n",
       "    }\n",
       "\n",
       "    .dataframe tbody tr th {\n",
       "        vertical-align: top;\n",
       "    }\n",
       "\n",
       "    .dataframe thead th {\n",
       "        text-align: right;\n",
       "    }\n",
       "</style>\n",
       "<table border=\"1\" class=\"dataframe\">\n",
       "  <thead>\n",
       "    <tr style=\"text-align: right;\">\n",
       "      <th></th>\n",
       "      <th>위도</th>\n",
       "      <th>경도</th>\n",
       "    </tr>\n",
       "  </thead>\n",
       "  <tbody>\n",
       "    <tr>\n",
       "      <th>count</th>\n",
       "      <td>573680.000000</td>\n",
       "      <td>573680.000000</td>\n",
       "    </tr>\n",
       "    <tr>\n",
       "      <th>mean</th>\n",
       "      <td>36.854698</td>\n",
       "      <td>127.596287</td>\n",
       "    </tr>\n",
       "    <tr>\n",
       "      <th>std</th>\n",
       "      <td>1.081285</td>\n",
       "      <td>0.941262</td>\n",
       "    </tr>\n",
       "    <tr>\n",
       "      <th>min</th>\n",
       "      <td>35.006760</td>\n",
       "      <td>126.768169</td>\n",
       "    </tr>\n",
       "    <tr>\n",
       "      <th>25%</th>\n",
       "      <td>35.215422</td>\n",
       "      <td>126.968316</td>\n",
       "    </tr>\n",
       "    <tr>\n",
       "      <th>50%</th>\n",
       "      <td>37.511207</td>\n",
       "      <td>127.047672</td>\n",
       "    </tr>\n",
       "    <tr>\n",
       "      <th>75%</th>\n",
       "      <td>37.560362</td>\n",
       "      <td>128.986938</td>\n",
       "    </tr>\n",
       "    <tr>\n",
       "      <th>max</th>\n",
       "      <td>37.692398</td>\n",
       "      <td>129.292243</td>\n",
       "    </tr>\n",
       "  </tbody>\n",
       "</table>\n",
       "</div>"
      ],
      "text/plain": [
       "                  위도             경도\n",
       "count  573680.000000  573680.000000\n",
       "mean       36.854698     127.596287\n",
       "std         1.081285       0.941262\n",
       "min        35.006760     126.768169\n",
       "25%        35.215422     126.968316\n",
       "50%        37.511207     127.047672\n",
       "75%        37.560362     128.986938\n",
       "max        37.692398     129.292243"
      ]
     },
     "execution_count": 21,
     "metadata": {},
     "output_type": "execute_result"
    }
   ],
   "source": [
    "# 기술 통계\n",
    "df.describe()\n",
    "df[[\"위도\", \"경도\"]].describe()"
   ]
  },
  {
   "cell_type": "code",
   "execution_count": 22,
   "metadata": {},
   "outputs": [
    {
     "data": {
      "text/html": [
       "<div>\n",
       "<style scoped>\n",
       "    .dataframe tbody tr th:only-of-type {\n",
       "        vertical-align: middle;\n",
       "    }\n",
       "\n",
       "    .dataframe tbody tr th {\n",
       "        vertical-align: top;\n",
       "    }\n",
       "\n",
       "    .dataframe thead th {\n",
       "        text-align: right;\n",
       "    }\n",
       "</style>\n",
       "<table border=\"1\" class=\"dataframe\">\n",
       "  <thead>\n",
       "    <tr style=\"text-align: right;\">\n",
       "      <th></th>\n",
       "      <th>지번본번지</th>\n",
       "      <th>건물본번지</th>\n",
       "      <th>경도</th>\n",
       "      <th>위도</th>\n",
       "    </tr>\n",
       "  </thead>\n",
       "  <tbody>\n",
       "    <tr>\n",
       "      <th>지번본번지</th>\n",
       "      <td>1.000000</td>\n",
       "      <td>0.057987</td>\n",
       "      <td>0.182678</td>\n",
       "      <td>-0.196658</td>\n",
       "    </tr>\n",
       "    <tr>\n",
       "      <th>건물본번지</th>\n",
       "      <td>0.057987</td>\n",
       "      <td>1.000000</td>\n",
       "      <td>0.000255</td>\n",
       "      <td>0.004606</td>\n",
       "    </tr>\n",
       "    <tr>\n",
       "      <th>경도</th>\n",
       "      <td>0.182678</td>\n",
       "      <td>0.000255</td>\n",
       "      <td>1.000000</td>\n",
       "      <td>-0.994711</td>\n",
       "    </tr>\n",
       "    <tr>\n",
       "      <th>위도</th>\n",
       "      <td>-0.196658</td>\n",
       "      <td>0.004606</td>\n",
       "      <td>-0.994711</td>\n",
       "      <td>1.000000</td>\n",
       "    </tr>\n",
       "  </tbody>\n",
       "</table>\n",
       "</div>"
      ],
      "text/plain": [
       "          지번본번지     건물본번지        경도        위도\n",
       "지번본번지  1.000000  0.057987  0.182678 -0.196658\n",
       "건물본번지  0.057987  1.000000  0.000255  0.004606\n",
       "경도     0.182678  0.000255  1.000000 -0.994711\n",
       "위도    -0.196658  0.004606 -0.994711  1.000000"
      ]
     },
     "execution_count": 22,
     "metadata": {},
     "output_type": "execute_result"
    }
   ],
   "source": [
    "# 상관계수\n",
    "corr = df.corr()\n",
    "corr"
   ]
  },
  {
   "cell_type": "code",
   "execution_count": 28,
   "metadata": {},
   "outputs": [
    {
     "name": "stderr",
     "output_type": "stream",
     "text": [
      "C:\\ProgramData\\Anaconda3\\lib\\site-packages\\matplotlib\\backends\\backend_agg.py:211: RuntimeWarning: Glyph 8722 missing from current font.\n",
      "  font.set_text(s, 0.0, flags=flags)\n",
      "C:\\ProgramData\\Anaconda3\\lib\\site-packages\\matplotlib\\backends\\backend_agg.py:180: RuntimeWarning: Glyph 8722 missing from current font.\n",
      "  font.set_text(s, 0, flags=flags)\n"
     ]
    },
    {
     "data": {
      "text/plain": [
       "<matplotlib.axes._subplots.AxesSubplot at 0x278b5c2e9c8>"
      ]
     },
     "execution_count": 28,
     "metadata": {},
     "output_type": "execute_result"
    },
    {
     "data": {
      "image/png": "[encoded data removed]",
      "text/plain": [
       "<Figure size 432x288 with 2 Axes>"
      ]
     },
     "metadata": {
      "image/png": {
       "height": 253,
       "width": 359
      },
      "needs_background": "light"
     },
     "output_type": "display_data"
    }
   ],
   "source": [
    "# 상관계수 시각화\n",
    "import numpy as np\n",
    "mask = np.triu(np.ones_like(corr, dtype=np.bool))\n",
    "sns.heatmap(corr, annot=True, cmap=\"Blues\", mask=mask)"
   ]
  },
  {
   "cell_type": "code",
   "execution_count": 29,
   "metadata": {},
   "outputs": [
    {
     "data": {
      "text/plain": [
       "<matplotlib.axes._subplots.AxesSubplot at 0x278b4b85208>"
      ]
     },
     "execution_count": 29,
     "metadata": {},
     "output_type": "execute_result"
    },
    {
     "data": {
      "image/png": "[encoded data removed]",
      "text/plain": [
       "<Figure size 432x288 with 1 Axes>"
      ]
     },
     "metadata": {
      "image/png": {
       "height": 265,
       "width": 391
      },
      "needs_background": "light"
     },
     "output_type": "display_data"
    }
   ],
   "source": [
    "# 산점도(수치)\n",
    "sns.scatterplot(data=df.sample(1000), x=\"경도\", y=\"위도\")"
   ]
  },
  {
   "cell_type": "code",
   "execution_count": 30,
   "metadata": {},
   "outputs": [
    {
     "data": {
      "text/plain": [
       "<matplotlib.axes._subplots.AxesSubplot at 0x278b5e27ac8>"
      ]
     },
     "execution_count": 30,
     "metadata": {},
     "output_type": "execute_result"
    },
    {
     "data": {
      "image/png": "[encoded data removed]",
      "text/plain": [
       "<Figure size 432x288 with 1 Axes>"
      ]
     },
     "metadata": {
      "image/png": {
       "height": 265,
       "width": 391
      },
      "needs_background": "light"
     },
     "output_type": "display_data"
    }
   ],
   "source": [
    "# 회귀선\n",
    "sns.regplot(data=df.sample(1000), x=\"경도\", y=\"위도\")"
   ]
  },
  {
   "cell_type": "code",
   "execution_count": 31,
   "metadata": {},
   "outputs": [
    {
     "data": {
      "text/plain": [
       "<seaborn.axisgrid.FacetGrid at 0x278b61d0908>"
      ]
     },
     "execution_count": 31,
     "metadata": {},
     "output_type": "execute_result"
    },
    {
     "data": {
      "image/png": "[encoded data removed]",
      "text/plain": [
       "<Figure size 720x360 with 2 Axes>"
      ]
     },
     "metadata": {
      "image/png": {
       "height": 355,
       "width": 713
      },
      "needs_background": "light"
     },
     "output_type": "display_data"
    }
   ],
   "source": [
    "# 서브플롯\n",
    "sns.lmplot(data=df.sample(1000), x=\"경도\", y=\"위도\", hue=\"시도명\", col=\"시도명\", fit_reg=True)"
   ]
  },
  {
   "cell_type": "code",
   "execution_count": null,
   "metadata": {},
   "outputs": [],
   "source": []
  }
 ],
 "metadata": {
  "kernelspec": {
   "display_name": "Python 3",
   "language": "python",
   "name": "python3"
  },
  "language_info": {
   "codemirror_mode": {
    "name": "ipython",
    "version": 3
   },
   "file_extension": ".py",
   "mimetype": "text/x-python",
   "name": "python",
   "nbconvert_exporter": "python",
   "pygments_lexer": "ipython3",
   "version": "3.7.6"
  }
 },
 "nbformat": 4,
 "nbformat_minor": 4
}
